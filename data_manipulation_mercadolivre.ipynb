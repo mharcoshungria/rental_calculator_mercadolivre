{
 "cells": [
  {
   "cell_type": "code",
   "execution_count": 1,
   "id": "3753a4e8",
   "metadata": {},
   "outputs": [],
   "source": [
    "import pandas as pd\n",
    "import numpy as np"
   ]
  },
  {
   "cell_type": "code",
   "execution_count": 2,
   "id": "be2c29cf",
   "metadata": {},
   "outputs": [],
   "source": [
    "df_ml = pd.read_csv('https://raw.githubusercontent.com/mharcoshungria/rental_calculator_mercadolivre/main/dados_ml.csv', thousands='.')"
   ]
  },
  {
   "cell_type": "code",
   "execution_count": 3,
   "id": "746fff4c",
   "metadata": {},
   "outputs": [
    {
     "data": {
      "text/html": [
       "<div>\n",
       "<style scoped>\n",
       "    .dataframe tbody tr th:only-of-type {\n",
       "        vertical-align: middle;\n",
       "    }\n",
       "\n",
       "    .dataframe tbody tr th {\n",
       "        vertical-align: top;\n",
       "    }\n",
       "\n",
       "    .dataframe thead th {\n",
       "        text-align: right;\n",
       "    }\n",
       "</style>\n",
       "<table border=\"1\" class=\"dataframe\">\n",
       "  <thead>\n",
       "    <tr style=\"text-align: right;\">\n",
       "      <th></th>\n",
       "      <th>aluguel</th>\n",
       "      <th>area_quarto</th>\n",
       "      <th>zona</th>\n",
       "    </tr>\n",
       "  </thead>\n",
       "  <tbody>\n",
       "    <tr>\n",
       "      <th>0</th>\n",
       "      <td>1100</td>\n",
       "      <td>64 m² construídos3 quartos</td>\n",
       "      <td>sul</td>\n",
       "    </tr>\n",
       "    <tr>\n",
       "      <th>1</th>\n",
       "      <td>1300</td>\n",
       "      <td>35 m² construídos1 quarto</td>\n",
       "      <td>sul</td>\n",
       "    </tr>\n",
       "    <tr>\n",
       "      <th>2</th>\n",
       "      <td>3500</td>\n",
       "      <td>100 m² construídos3 quartos</td>\n",
       "      <td>sul</td>\n",
       "    </tr>\n",
       "    <tr>\n",
       "      <th>3</th>\n",
       "      <td>1700</td>\n",
       "      <td>75 m² construídos2 quartos</td>\n",
       "      <td>sul</td>\n",
       "    </tr>\n",
       "    <tr>\n",
       "      <th>4</th>\n",
       "      <td>3270</td>\n",
       "      <td>100 m² construídos3 quartos</td>\n",
       "      <td>sul</td>\n",
       "    </tr>\n",
       "  </tbody>\n",
       "</table>\n",
       "</div>"
      ],
      "text/plain": [
       "   aluguel                  area_quarto zona\n",
       "0     1100   64 m² construídos3 quartos  sul\n",
       "1     1300    35 m² construídos1 quarto  sul\n",
       "2     3500  100 m² construídos3 quartos  sul\n",
       "3     1700   75 m² construídos2 quartos  sul\n",
       "4     3270  100 m² construídos3 quartos  sul"
      ]
     },
     "execution_count": 3,
     "metadata": {},
     "output_type": "execute_result"
    }
   ],
   "source": [
    "df_ml.head()"
   ]
  },
  {
   "cell_type": "code",
   "execution_count": 4,
   "id": "e09f6a53",
   "metadata": {},
   "outputs": [
    {
     "name": "stdout",
     "output_type": "stream",
     "text": [
      "<class 'pandas.core.frame.DataFrame'>\n",
      "RangeIndex: 1152 entries, 0 to 1151\n",
      "Data columns (total 3 columns):\n",
      " #   Column       Non-Null Count  Dtype \n",
      "---  ------       --------------  ----- \n",
      " 0   aluguel      1152 non-null   int64 \n",
      " 1   area_quarto  1152 non-null   object\n",
      " 2   zona         1152 non-null   object\n",
      "dtypes: int64(1), object(2)\n",
      "memory usage: 27.1+ KB\n"
     ]
    }
   ],
   "source": [
    "df_ml.info()"
   ]
  },
  {
   "cell_type": "code",
   "execution_count": 5,
   "id": "69b97e5e",
   "metadata": {},
   "outputs": [
    {
     "data": {
      "text/html": [
       "<div>\n",
       "<style scoped>\n",
       "    .dataframe tbody tr th:only-of-type {\n",
       "        vertical-align: middle;\n",
       "    }\n",
       "\n",
       "    .dataframe tbody tr th {\n",
       "        vertical-align: top;\n",
       "    }\n",
       "\n",
       "    .dataframe thead th {\n",
       "        text-align: right;\n",
       "    }\n",
       "</style>\n",
       "<table border=\"1\" class=\"dataframe\">\n",
       "  <thead>\n",
       "    <tr style=\"text-align: right;\">\n",
       "      <th></th>\n",
       "      <th>count</th>\n",
       "      <th>mean</th>\n",
       "      <th>std</th>\n",
       "      <th>min</th>\n",
       "      <th>25%</th>\n",
       "      <th>50%</th>\n",
       "      <th>75%</th>\n",
       "      <th>max</th>\n",
       "    </tr>\n",
       "  </thead>\n",
       "  <tbody>\n",
       "    <tr>\n",
       "      <th>aluguel</th>\n",
       "      <td>1152.0</td>\n",
       "      <td>10874.693576</td>\n",
       "      <td>199805.665785</td>\n",
       "      <td>680.0</td>\n",
       "      <td>1500.0</td>\n",
       "      <td>2300.0</td>\n",
       "      <td>4300.0</td>\n",
       "      <td>6750000.0</td>\n",
       "    </tr>\n",
       "  </tbody>\n",
       "</table>\n",
       "</div>"
      ],
      "text/plain": [
       "          count          mean            std    min     25%     50%     75%  \\\n",
       "aluguel  1152.0  10874.693576  199805.665785  680.0  1500.0  2300.0  4300.0   \n",
       "\n",
       "               max  \n",
       "aluguel  6750000.0  "
      ]
     },
     "execution_count": 5,
     "metadata": {},
     "output_type": "execute_result"
    }
   ],
   "source": [
    "df_ml.describe().T"
   ]
  },
  {
   "cell_type": "code",
   "execution_count": 6,
   "id": "f0cde4fd",
   "metadata": {},
   "outputs": [
    {
     "data": {
      "text/plain": [
       "aluguel        0\n",
       "area_quarto    0\n",
       "zona           0\n",
       "dtype: int64"
      ]
     },
     "execution_count": 6,
     "metadata": {},
     "output_type": "execute_result"
    }
   ],
   "source": [
    "df_ml.isna().sum()"
   ]
  },
  {
   "cell_type": "code",
   "execution_count": 7,
   "id": "c7142c8c",
   "metadata": {},
   "outputs": [
    {
     "data": {
      "text/plain": [
       "aluguel        0\n",
       "area_quarto    0\n",
       "zona           0\n",
       "dtype: int64"
      ]
     },
     "execution_count": 7,
     "metadata": {},
     "output_type": "execute_result"
    }
   ],
   "source": [
    "df_ml.isnull().sum()"
   ]
  },
  {
   "cell_type": "code",
   "execution_count": 8,
   "id": "96796ce2",
   "metadata": {},
   "outputs": [],
   "source": [
    "df_ml['aluguel'] = df_ml['aluguel'].astype(float)"
   ]
  },
  {
   "cell_type": "code",
   "execution_count": 9,
   "id": "fae9f38d",
   "metadata": {},
   "outputs": [
    {
     "name": "stdout",
     "output_type": "stream",
     "text": [
      "<class 'pandas.core.frame.DataFrame'>\n",
      "RangeIndex: 1152 entries, 0 to 1151\n",
      "Data columns (total 3 columns):\n",
      " #   Column       Non-Null Count  Dtype  \n",
      "---  ------       --------------  -----  \n",
      " 0   aluguel      1152 non-null   float64\n",
      " 1   area_quarto  1152 non-null   object \n",
      " 2   zona         1152 non-null   object \n",
      "dtypes: float64(1), object(2)\n",
      "memory usage: 27.1+ KB\n"
     ]
    }
   ],
   "source": [
    "df_ml.info()"
   ]
  },
  {
   "cell_type": "code",
   "execution_count": 10,
   "id": "8a556584",
   "metadata": {},
   "outputs": [],
   "source": [
    "linha0 = df_ml['area_quarto'][0]"
   ]
  },
  {
   "cell_type": "code",
   "execution_count": 11,
   "id": "b792a3b5",
   "metadata": {},
   "outputs": [
    {
     "data": {
      "text/plain": [
       "'64'"
      ]
     },
     "execution_count": 11,
     "metadata": {},
     "output_type": "execute_result"
    }
   ],
   "source": [
    "linha0.split(sep=' m²')[0]"
   ]
  },
  {
   "cell_type": "code",
   "execution_count": 12,
   "id": "624a164f",
   "metadata": {},
   "outputs": [],
   "source": [
    "linha_inventada = ' 2 quartos'"
   ]
  },
  {
   "cell_type": "code",
   "execution_count": 13,
   "id": "0a767023",
   "metadata": {},
   "outputs": [
    {
     "name": "stdout",
     "output_type": "stream",
     "text": [
      "64\n"
     ]
    }
   ],
   "source": [
    "if 'm²' in linha0:\n",
    "  print(linha0.split(sep=' m²')[0])\n",
    "else:\n",
    "  print(np.nan)"
   ]
  },
  {
   "cell_type": "code",
   "execution_count": 14,
   "id": "9956e77a",
   "metadata": {},
   "outputs": [
    {
     "name": "stdout",
     "output_type": "stream",
     "text": [
      "nan\n"
     ]
    }
   ],
   "source": [
    "if 'm²' in linha_inventada:\n",
    "  print(linha_inventada.split(sep=' m²')[0])\n",
    "else:\n",
    "  print(np.nan)"
   ]
  },
  {
   "cell_type": "code",
   "execution_count": 15,
   "id": "4f14af60",
   "metadata": {},
   "outputs": [],
   "source": [
    "# type(np.nan)"
   ]
  },
  {
   "cell_type": "code",
   "execution_count": 16,
   "id": "33bd8191",
   "metadata": {},
   "outputs": [],
   "source": [
    "def extrair_area(entrada):\n",
    "  if 'm²' in entrada:\n",
    "    area = entrada.split(sep=' m²')[0]\n",
    "  else:\n",
    "    area = np.nan\n",
    "  return area"
   ]
  },
  {
   "cell_type": "code",
   "execution_count": 17,
   "id": "c8c53ead",
   "metadata": {},
   "outputs": [],
   "source": [
    "# df_ml()"
   ]
  },
  {
   "cell_type": "code",
   "execution_count": 18,
   "id": "e42ad186",
   "metadata": {},
   "outputs": [],
   "source": [
    "df_ml['area'] = df_ml['area_quarto'].apply(extrair_area)"
   ]
  },
  {
   "cell_type": "code",
   "execution_count": 19,
   "id": "0ddb5428",
   "metadata": {},
   "outputs": [
    {
     "name": "stdout",
     "output_type": "stream",
     "text": [
      "<class 'pandas.core.frame.DataFrame'>\n",
      "RangeIndex: 1152 entries, 0 to 1151\n",
      "Data columns (total 4 columns):\n",
      " #   Column       Non-Null Count  Dtype  \n",
      "---  ------       --------------  -----  \n",
      " 0   aluguel      1152 non-null   float64\n",
      " 1   area_quarto  1152 non-null   object \n",
      " 2   zona         1152 non-null   object \n",
      " 3   area         1152 non-null   object \n",
      "dtypes: float64(1), object(3)\n",
      "memory usage: 36.1+ KB\n"
     ]
    }
   ],
   "source": [
    "df_ml.info()"
   ]
  },
  {
   "cell_type": "code",
   "execution_count": 20,
   "id": "5a9f18ad",
   "metadata": {},
   "outputs": [
    {
     "data": {
      "text/plain": [
       "'64 m² construídos3 quartos'"
      ]
     },
     "execution_count": 20,
     "metadata": {},
     "output_type": "execute_result"
    }
   ],
   "source": [
    "linha0"
   ]
  },
  {
   "cell_type": "code",
   "execution_count": 21,
   "id": "4c1d45db",
   "metadata": {},
   "outputs": [],
   "source": [
    "padrao = '(\\d+)' # é uma expressão regular, um padrão - regex"
   ]
  },
  {
   "cell_type": "code",
   "execution_count": 22,
   "id": "3d0ef675",
   "metadata": {},
   "outputs": [],
   "source": [
    "import re"
   ]
  },
  {
   "cell_type": "code",
   "execution_count": 23,
   "id": "14cf87d2",
   "metadata": {},
   "outputs": [
    {
     "data": {
      "text/plain": [
       "'3'"
      ]
     },
     "execution_count": 23,
     "metadata": {},
     "output_type": "execute_result"
    }
   ],
   "source": [
    "re.findall(padrao, linha0)[1]"
   ]
  },
  {
   "cell_type": "code",
   "execution_count": 24,
   "id": "dba4d10e",
   "metadata": {},
   "outputs": [],
   "source": [
    "def extrair_quarto(entrada):\n",
    "  padrao = '(\\d+)' \n",
    "\n",
    "  if 'quarto' in entrada:\n",
    "    quarto = re.findall(padrao, entrada)[1]\n",
    "  else:\n",
    "    quarto = np.nan\n",
    "  return quarto"
   ]
  },
  {
   "cell_type": "code",
   "execution_count": 25,
   "id": "0af0afd5",
   "metadata": {},
   "outputs": [],
   "source": [
    "df_ml['quarto'] = df_ml['area_quarto'].apply(extrair_quarto).astype(float)"
   ]
  },
  {
   "cell_type": "code",
   "execution_count": 26,
   "id": "1e7a54b9",
   "metadata": {},
   "outputs": [
    {
     "name": "stdout",
     "output_type": "stream",
     "text": [
      "<class 'pandas.core.frame.DataFrame'>\n",
      "RangeIndex: 1152 entries, 0 to 1151\n",
      "Data columns (total 5 columns):\n",
      " #   Column       Non-Null Count  Dtype  \n",
      "---  ------       --------------  -----  \n",
      " 0   aluguel      1152 non-null   float64\n",
      " 1   area_quarto  1152 non-null   object \n",
      " 2   zona         1152 non-null   object \n",
      " 3   area         1152 non-null   object \n",
      " 4   quarto       1117 non-null   float64\n",
      "dtypes: float64(2), object(3)\n",
      "memory usage: 45.1+ KB\n"
     ]
    }
   ],
   "source": [
    "df_ml.info()"
   ]
  },
  {
   "cell_type": "code",
   "execution_count": 27,
   "id": "b5207735",
   "metadata": {},
   "outputs": [],
   "source": [
    "df_ml = df_ml.drop('area_quarto', axis=1)"
   ]
  },
  {
   "cell_type": "code",
   "execution_count": 28,
   "id": "71b61441",
   "metadata": {},
   "outputs": [
    {
     "data": {
      "text/html": [
       "<div>\n",
       "<style scoped>\n",
       "    .dataframe tbody tr th:only-of-type {\n",
       "        vertical-align: middle;\n",
       "    }\n",
       "\n",
       "    .dataframe tbody tr th {\n",
       "        vertical-align: top;\n",
       "    }\n",
       "\n",
       "    .dataframe thead th {\n",
       "        text-align: right;\n",
       "    }\n",
       "</style>\n",
       "<table border=\"1\" class=\"dataframe\">\n",
       "  <thead>\n",
       "    <tr style=\"text-align: right;\">\n",
       "      <th></th>\n",
       "      <th>aluguel</th>\n",
       "      <th>zona</th>\n",
       "      <th>area</th>\n",
       "      <th>quarto</th>\n",
       "    </tr>\n",
       "  </thead>\n",
       "  <tbody>\n",
       "    <tr>\n",
       "      <th>0</th>\n",
       "      <td>1100.0</td>\n",
       "      <td>sul</td>\n",
       "      <td>64</td>\n",
       "      <td>3.0</td>\n",
       "    </tr>\n",
       "    <tr>\n",
       "      <th>1</th>\n",
       "      <td>1300.0</td>\n",
       "      <td>sul</td>\n",
       "      <td>35</td>\n",
       "      <td>1.0</td>\n",
       "    </tr>\n",
       "    <tr>\n",
       "      <th>2</th>\n",
       "      <td>3500.0</td>\n",
       "      <td>sul</td>\n",
       "      <td>100</td>\n",
       "      <td>3.0</td>\n",
       "    </tr>\n",
       "    <tr>\n",
       "      <th>3</th>\n",
       "      <td>1700.0</td>\n",
       "      <td>sul</td>\n",
       "      <td>75</td>\n",
       "      <td>2.0</td>\n",
       "    </tr>\n",
       "    <tr>\n",
       "      <th>4</th>\n",
       "      <td>3270.0</td>\n",
       "      <td>sul</td>\n",
       "      <td>100</td>\n",
       "      <td>3.0</td>\n",
       "    </tr>\n",
       "  </tbody>\n",
       "</table>\n",
       "</div>"
      ],
      "text/plain": [
       "   aluguel zona area  quarto\n",
       "0   1100.0  sul   64     3.0\n",
       "1   1300.0  sul   35     1.0\n",
       "2   3500.0  sul  100     3.0\n",
       "3   1700.0  sul   75     2.0\n",
       "4   3270.0  sul  100     3.0"
      ]
     },
     "execution_count": 28,
     "metadata": {},
     "output_type": "execute_result"
    }
   ],
   "source": [
    "df_ml.head()"
   ]
  },
  {
   "cell_type": "code",
   "execution_count": 29,
   "id": "3559c0a4",
   "metadata": {},
   "outputs": [],
   "source": [
    "df_ml.to_csv('dados_limpos_ml.csv', index=False)"
   ]
  }
 ],
 "metadata": {
  "kernelspec": {
   "display_name": "Python 3 (ipykernel)",
   "language": "python",
   "name": "python3"
  },
  "language_info": {
   "codemirror_mode": {
    "name": "ipython",
    "version": 3
   },
   "file_extension": ".py",
   "mimetype": "text/x-python",
   "name": "python",
   "nbconvert_exporter": "python",
   "pygments_lexer": "ipython3",
   "version": "3.9.7"
  }
 },
 "nbformat": 4,
 "nbformat_minor": 5
}
