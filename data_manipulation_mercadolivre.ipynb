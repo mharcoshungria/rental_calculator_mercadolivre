{
  "cells": [
    {
      "cell_type": "markdown",
      "metadata": {
        "id": "view-in-github",
        "colab_type": "text"
      },
      "source": [
        "<a href=\"https://colab.research.google.com/github/mharcoshungria/web_scraping_mercadolivre/blob/main/data_manipulation_mercadolivre.ipynb\" target=\"_parent\"><img src=\"https://colab.research.google.com/assets/colab-badge.svg\" alt=\"Open In Colab\"/></a>"
      ]
    },
    {
      "cell_type": "code",
      "execution_count": 1,
      "id": "3753a4e8",
      "metadata": {
        "id": "3753a4e8"
      },
      "outputs": [],
      "source": [
        "import pandas as pd\n",
        "import numpy as np"
      ]
    },
    {
      "cell_type": "code",
      "execution_count": 13,
      "id": "be2c29cf",
      "metadata": {
        "id": "be2c29cf"
      },
      "outputs": [],
      "source": [
        "df_ml = pd.read_csv('https://raw.githubusercontent.com/mharcoshungria/web_scraping_mercadolivre/main/dados_ml.csv', thousands='.')"
      ]
    },
    {
      "cell_type": "code",
      "execution_count": 14,
      "id": "746fff4c",
      "metadata": {
        "colab": {
          "base_uri": "https://localhost:8080/",
          "height": 206
        },
        "id": "746fff4c",
        "outputId": "c4f1b98d-cdfb-47b0-fe04-8096bc5f9701"
      },
      "outputs": [
        {
          "output_type": "execute_result",
          "data": {
            "text/plain": [
              "   aluguel                  area_quarto zona\n",
              "0     1100   64 m² construídos3 quartos  sul\n",
              "1     1300    35 m² construídos1 quarto  sul\n",
              "2     3500  100 m² construídos3 quartos  sul\n",
              "3     1700   75 m² construídos2 quartos  sul\n",
              "4     3270  100 m² construídos3 quartos  sul"
            ],
            "text/html": [
              "\n",
              "  <div id=\"df-75e7da91-2504-4636-ba19-b3f7362dbddf\">\n",
              "    <div class=\"colab-df-container\">\n",
              "      <div>\n",
              "<style scoped>\n",
              "    .dataframe tbody tr th:only-of-type {\n",
              "        vertical-align: middle;\n",
              "    }\n",
              "\n",
              "    .dataframe tbody tr th {\n",
              "        vertical-align: top;\n",
              "    }\n",
              "\n",
              "    .dataframe thead th {\n",
              "        text-align: right;\n",
              "    }\n",
              "</style>\n",
              "<table border=\"1\" class=\"dataframe\">\n",
              "  <thead>\n",
              "    <tr style=\"text-align: right;\">\n",
              "      <th></th>\n",
              "      <th>aluguel</th>\n",
              "      <th>area_quarto</th>\n",
              "      <th>zona</th>\n",
              "    </tr>\n",
              "  </thead>\n",
              "  <tbody>\n",
              "    <tr>\n",
              "      <th>0</th>\n",
              "      <td>1100</td>\n",
              "      <td>64 m² construídos3 quartos</td>\n",
              "      <td>sul</td>\n",
              "    </tr>\n",
              "    <tr>\n",
              "      <th>1</th>\n",
              "      <td>1300</td>\n",
              "      <td>35 m² construídos1 quarto</td>\n",
              "      <td>sul</td>\n",
              "    </tr>\n",
              "    <tr>\n",
              "      <th>2</th>\n",
              "      <td>3500</td>\n",
              "      <td>100 m² construídos3 quartos</td>\n",
              "      <td>sul</td>\n",
              "    </tr>\n",
              "    <tr>\n",
              "      <th>3</th>\n",
              "      <td>1700</td>\n",
              "      <td>75 m² construídos2 quartos</td>\n",
              "      <td>sul</td>\n",
              "    </tr>\n",
              "    <tr>\n",
              "      <th>4</th>\n",
              "      <td>3270</td>\n",
              "      <td>100 m² construídos3 quartos</td>\n",
              "      <td>sul</td>\n",
              "    </tr>\n",
              "  </tbody>\n",
              "</table>\n",
              "</div>\n",
              "      <button class=\"colab-df-convert\" onclick=\"convertToInteractive('df-75e7da91-2504-4636-ba19-b3f7362dbddf')\"\n",
              "              title=\"Convert this dataframe to an interactive table.\"\n",
              "              style=\"display:none;\">\n",
              "        \n",
              "  <svg xmlns=\"http://www.w3.org/2000/svg\" height=\"24px\"viewBox=\"0 0 24 24\"\n",
              "       width=\"24px\">\n",
              "    <path d=\"M0 0h24v24H0V0z\" fill=\"none\"/>\n",
              "    <path d=\"M18.56 5.44l.94 2.06.94-2.06 2.06-.94-2.06-.94-.94-2.06-.94 2.06-2.06.94zm-11 1L8.5 8.5l.94-2.06 2.06-.94-2.06-.94L8.5 2.5l-.94 2.06-2.06.94zm10 10l.94 2.06.94-2.06 2.06-.94-2.06-.94-.94-2.06-.94 2.06-2.06.94z\"/><path d=\"M17.41 7.96l-1.37-1.37c-.4-.4-.92-.59-1.43-.59-.52 0-1.04.2-1.43.59L10.3 9.45l-7.72 7.72c-.78.78-.78 2.05 0 2.83L4 21.41c.39.39.9.59 1.41.59.51 0 1.02-.2 1.41-.59l7.78-7.78 2.81-2.81c.8-.78.8-2.07 0-2.86zM5.41 20L4 18.59l7.72-7.72 1.47 1.35L5.41 20z\"/>\n",
              "  </svg>\n",
              "      </button>\n",
              "      \n",
              "  <style>\n",
              "    .colab-df-container {\n",
              "      display:flex;\n",
              "      flex-wrap:wrap;\n",
              "      gap: 12px;\n",
              "    }\n",
              "\n",
              "    .colab-df-convert {\n",
              "      background-color: #E8F0FE;\n",
              "      border: none;\n",
              "      border-radius: 50%;\n",
              "      cursor: pointer;\n",
              "      display: none;\n",
              "      fill: #1967D2;\n",
              "      height: 32px;\n",
              "      padding: 0 0 0 0;\n",
              "      width: 32px;\n",
              "    }\n",
              "\n",
              "    .colab-df-convert:hover {\n",
              "      background-color: #E2EBFA;\n",
              "      box-shadow: 0px 1px 2px rgba(60, 64, 67, 0.3), 0px 1px 3px 1px rgba(60, 64, 67, 0.15);\n",
              "      fill: #174EA6;\n",
              "    }\n",
              "\n",
              "    [theme=dark] .colab-df-convert {\n",
              "      background-color: #3B4455;\n",
              "      fill: #D2E3FC;\n",
              "    }\n",
              "\n",
              "    [theme=dark] .colab-df-convert:hover {\n",
              "      background-color: #434B5C;\n",
              "      box-shadow: 0px 1px 3px 1px rgba(0, 0, 0, 0.15);\n",
              "      filter: drop-shadow(0px 1px 2px rgba(0, 0, 0, 0.3));\n",
              "      fill: #FFFFFF;\n",
              "    }\n",
              "  </style>\n",
              "\n",
              "      <script>\n",
              "        const buttonEl =\n",
              "          document.querySelector('#df-75e7da91-2504-4636-ba19-b3f7362dbddf button.colab-df-convert');\n",
              "        buttonEl.style.display =\n",
              "          google.colab.kernel.accessAllowed ? 'block' : 'none';\n",
              "\n",
              "        async function convertToInteractive(key) {\n",
              "          const element = document.querySelector('#df-75e7da91-2504-4636-ba19-b3f7362dbddf');\n",
              "          const dataTable =\n",
              "            await google.colab.kernel.invokeFunction('convertToInteractive',\n",
              "                                                     [key], {});\n",
              "          if (!dataTable) return;\n",
              "\n",
              "          const docLinkHtml = 'Like what you see? Visit the ' +\n",
              "            '<a target=\"_blank\" href=https://colab.research.google.com/notebooks/data_table.ipynb>data table notebook</a>'\n",
              "            + ' to learn more about interactive tables.';\n",
              "          element.innerHTML = '';\n",
              "          dataTable['output_type'] = 'display_data';\n",
              "          await google.colab.output.renderOutput(dataTable, element);\n",
              "          const docLink = document.createElement('div');\n",
              "          docLink.innerHTML = docLinkHtml;\n",
              "          element.appendChild(docLink);\n",
              "        }\n",
              "      </script>\n",
              "    </div>\n",
              "  </div>\n",
              "  "
            ]
          },
          "metadata": {},
          "execution_count": 14
        }
      ],
      "source": [
        "df_ml.head()"
      ]
    },
    {
      "cell_type": "code",
      "execution_count": 15,
      "id": "e09f6a53",
      "metadata": {
        "colab": {
          "base_uri": "https://localhost:8080/"
        },
        "id": "e09f6a53",
        "outputId": "b800ad7e-ca3d-4cd4-8baa-3f54a2e6fcf6"
      },
      "outputs": [
        {
          "output_type": "stream",
          "name": "stdout",
          "text": [
            "<class 'pandas.core.frame.DataFrame'>\n",
            "RangeIndex: 1152 entries, 0 to 1151\n",
            "Data columns (total 3 columns):\n",
            " #   Column       Non-Null Count  Dtype \n",
            "---  ------       --------------  ----- \n",
            " 0   aluguel      1152 non-null   int64 \n",
            " 1   area_quarto  1152 non-null   object\n",
            " 2   zona         1152 non-null   object\n",
            "dtypes: int64(1), object(2)\n",
            "memory usage: 27.1+ KB\n"
          ]
        }
      ],
      "source": [
        "df_ml.info()"
      ]
    },
    {
      "cell_type": "code",
      "execution_count": 16,
      "id": "69b97e5e",
      "metadata": {
        "colab": {
          "base_uri": "https://localhost:8080/",
          "height": 81
        },
        "id": "69b97e5e",
        "outputId": "c13fbfa6-e4b2-43f3-82c4-e950f3ef11b2"
      },
      "outputs": [
        {
          "output_type": "execute_result",
          "data": {
            "text/plain": [
              "          count          mean            std    min     25%     50%     75%  \\\n",
              "aluguel  1152.0  10874.693576  199805.665785  680.0  1500.0  2300.0  4300.0   \n",
              "\n",
              "               max  \n",
              "aluguel  6750000.0  "
            ],
            "text/html": [
              "\n",
              "  <div id=\"df-479afdb4-5ba3-4ac4-8776-e542a9614827\">\n",
              "    <div class=\"colab-df-container\">\n",
              "      <div>\n",
              "<style scoped>\n",
              "    .dataframe tbody tr th:only-of-type {\n",
              "        vertical-align: middle;\n",
              "    }\n",
              "\n",
              "    .dataframe tbody tr th {\n",
              "        vertical-align: top;\n",
              "    }\n",
              "\n",
              "    .dataframe thead th {\n",
              "        text-align: right;\n",
              "    }\n",
              "</style>\n",
              "<table border=\"1\" class=\"dataframe\">\n",
              "  <thead>\n",
              "    <tr style=\"text-align: right;\">\n",
              "      <th></th>\n",
              "      <th>count</th>\n",
              "      <th>mean</th>\n",
              "      <th>std</th>\n",
              "      <th>min</th>\n",
              "      <th>25%</th>\n",
              "      <th>50%</th>\n",
              "      <th>75%</th>\n",
              "      <th>max</th>\n",
              "    </tr>\n",
              "  </thead>\n",
              "  <tbody>\n",
              "    <tr>\n",
              "      <th>aluguel</th>\n",
              "      <td>1152.0</td>\n",
              "      <td>10874.693576</td>\n",
              "      <td>199805.665785</td>\n",
              "      <td>680.0</td>\n",
              "      <td>1500.0</td>\n",
              "      <td>2300.0</td>\n",
              "      <td>4300.0</td>\n",
              "      <td>6750000.0</td>\n",
              "    </tr>\n",
              "  </tbody>\n",
              "</table>\n",
              "</div>\n",
              "      <button class=\"colab-df-convert\" onclick=\"convertToInteractive('df-479afdb4-5ba3-4ac4-8776-e542a9614827')\"\n",
              "              title=\"Convert this dataframe to an interactive table.\"\n",
              "              style=\"display:none;\">\n",
              "        \n",
              "  <svg xmlns=\"http://www.w3.org/2000/svg\" height=\"24px\"viewBox=\"0 0 24 24\"\n",
              "       width=\"24px\">\n",
              "    <path d=\"M0 0h24v24H0V0z\" fill=\"none\"/>\n",
              "    <path d=\"M18.56 5.44l.94 2.06.94-2.06 2.06-.94-2.06-.94-.94-2.06-.94 2.06-2.06.94zm-11 1L8.5 8.5l.94-2.06 2.06-.94-2.06-.94L8.5 2.5l-.94 2.06-2.06.94zm10 10l.94 2.06.94-2.06 2.06-.94-2.06-.94-.94-2.06-.94 2.06-2.06.94z\"/><path d=\"M17.41 7.96l-1.37-1.37c-.4-.4-.92-.59-1.43-.59-.52 0-1.04.2-1.43.59L10.3 9.45l-7.72 7.72c-.78.78-.78 2.05 0 2.83L4 21.41c.39.39.9.59 1.41.59.51 0 1.02-.2 1.41-.59l7.78-7.78 2.81-2.81c.8-.78.8-2.07 0-2.86zM5.41 20L4 18.59l7.72-7.72 1.47 1.35L5.41 20z\"/>\n",
              "  </svg>\n",
              "      </button>\n",
              "      \n",
              "  <style>\n",
              "    .colab-df-container {\n",
              "      display:flex;\n",
              "      flex-wrap:wrap;\n",
              "      gap: 12px;\n",
              "    }\n",
              "\n",
              "    .colab-df-convert {\n",
              "      background-color: #E8F0FE;\n",
              "      border: none;\n",
              "      border-radius: 50%;\n",
              "      cursor: pointer;\n",
              "      display: none;\n",
              "      fill: #1967D2;\n",
              "      height: 32px;\n",
              "      padding: 0 0 0 0;\n",
              "      width: 32px;\n",
              "    }\n",
              "\n",
              "    .colab-df-convert:hover {\n",
              "      background-color: #E2EBFA;\n",
              "      box-shadow: 0px 1px 2px rgba(60, 64, 67, 0.3), 0px 1px 3px 1px rgba(60, 64, 67, 0.15);\n",
              "      fill: #174EA6;\n",
              "    }\n",
              "\n",
              "    [theme=dark] .colab-df-convert {\n",
              "      background-color: #3B4455;\n",
              "      fill: #D2E3FC;\n",
              "    }\n",
              "\n",
              "    [theme=dark] .colab-df-convert:hover {\n",
              "      background-color: #434B5C;\n",
              "      box-shadow: 0px 1px 3px 1px rgba(0, 0, 0, 0.15);\n",
              "      filter: drop-shadow(0px 1px 2px rgba(0, 0, 0, 0.3));\n",
              "      fill: #FFFFFF;\n",
              "    }\n",
              "  </style>\n",
              "\n",
              "      <script>\n",
              "        const buttonEl =\n",
              "          document.querySelector('#df-479afdb4-5ba3-4ac4-8776-e542a9614827 button.colab-df-convert');\n",
              "        buttonEl.style.display =\n",
              "          google.colab.kernel.accessAllowed ? 'block' : 'none';\n",
              "\n",
              "        async function convertToInteractive(key) {\n",
              "          const element = document.querySelector('#df-479afdb4-5ba3-4ac4-8776-e542a9614827');\n",
              "          const dataTable =\n",
              "            await google.colab.kernel.invokeFunction('convertToInteractive',\n",
              "                                                     [key], {});\n",
              "          if (!dataTable) return;\n",
              "\n",
              "          const docLinkHtml = 'Like what you see? Visit the ' +\n",
              "            '<a target=\"_blank\" href=https://colab.research.google.com/notebooks/data_table.ipynb>data table notebook</a>'\n",
              "            + ' to learn more about interactive tables.';\n",
              "          element.innerHTML = '';\n",
              "          dataTable['output_type'] = 'display_data';\n",
              "          await google.colab.output.renderOutput(dataTable, element);\n",
              "          const docLink = document.createElement('div');\n",
              "          docLink.innerHTML = docLinkHtml;\n",
              "          element.appendChild(docLink);\n",
              "        }\n",
              "      </script>\n",
              "    </div>\n",
              "  </div>\n",
              "  "
            ]
          },
          "metadata": {},
          "execution_count": 16
        }
      ],
      "source": [
        "df_ml.describe().T"
      ]
    },
    {
      "cell_type": "code",
      "execution_count": 17,
      "id": "f0cde4fd",
      "metadata": {
        "colab": {
          "base_uri": "https://localhost:8080/"
        },
        "id": "f0cde4fd",
        "outputId": "c00bb2d7-90af-4809-fd2e-e8915296eec7"
      },
      "outputs": [
        {
          "output_type": "execute_result",
          "data": {
            "text/plain": [
              "aluguel        0\n",
              "area_quarto    0\n",
              "zona           0\n",
              "dtype: int64"
            ]
          },
          "metadata": {},
          "execution_count": 17
        }
      ],
      "source": [
        "df_ml.isna().sum()"
      ]
    },
    {
      "cell_type": "code",
      "execution_count": 18,
      "id": "c7142c8c",
      "metadata": {
        "colab": {
          "base_uri": "https://localhost:8080/"
        },
        "id": "c7142c8c",
        "outputId": "f8c58093-5889-4152-81a9-2b6b92ce50bb"
      },
      "outputs": [
        {
          "output_type": "execute_result",
          "data": {
            "text/plain": [
              "aluguel        0\n",
              "area_quarto    0\n",
              "zona           0\n",
              "dtype: int64"
            ]
          },
          "metadata": {},
          "execution_count": 18
        }
      ],
      "source": [
        "df_ml.isnull().sum()"
      ]
    },
    {
      "cell_type": "code",
      "execution_count": 19,
      "id": "96796ce2",
      "metadata": {
        "id": "96796ce2"
      },
      "outputs": [],
      "source": [
        "df_ml['aluguel'] = df_ml['aluguel'].astype(float)"
      ]
    },
    {
      "cell_type": "code",
      "execution_count": 20,
      "id": "fae9f38d",
      "metadata": {
        "colab": {
          "base_uri": "https://localhost:8080/"
        },
        "id": "fae9f38d",
        "outputId": "89580610-7e7c-41ad-d0f2-0649752a9d4d"
      },
      "outputs": [
        {
          "output_type": "stream",
          "name": "stdout",
          "text": [
            "<class 'pandas.core.frame.DataFrame'>\n",
            "RangeIndex: 1152 entries, 0 to 1151\n",
            "Data columns (total 3 columns):\n",
            " #   Column       Non-Null Count  Dtype  \n",
            "---  ------       --------------  -----  \n",
            " 0   aluguel      1152 non-null   float64\n",
            " 1   area_quarto  1152 non-null   object \n",
            " 2   zona         1152 non-null   object \n",
            "dtypes: float64(1), object(2)\n",
            "memory usage: 27.1+ KB\n"
          ]
        }
      ],
      "source": [
        "df_ml.info()"
      ]
    },
    {
      "cell_type": "code",
      "execution_count": 21,
      "id": "8a556584",
      "metadata": {
        "id": "8a556584"
      },
      "outputs": [],
      "source": [
        "linha0 = df_ml['area_quarto'][0]"
      ]
    },
    {
      "cell_type": "code",
      "execution_count": 22,
      "id": "b792a3b5",
      "metadata": {
        "colab": {
          "base_uri": "https://localhost:8080/",
          "height": 35
        },
        "id": "b792a3b5",
        "outputId": "5943efff-d055-4566-e293-fdc7a07151e8"
      },
      "outputs": [
        {
          "output_type": "execute_result",
          "data": {
            "text/plain": [
              "'64'"
            ],
            "application/vnd.google.colaboratory.intrinsic+json": {
              "type": "string"
            }
          },
          "metadata": {},
          "execution_count": 22
        }
      ],
      "source": [
        "linha0.split(sep=' m²')[0]"
      ]
    },
    {
      "cell_type": "code",
      "execution_count": 23,
      "id": "624a164f",
      "metadata": {
        "id": "624a164f"
      },
      "outputs": [],
      "source": [
        "linha_inventada = ' 2 quartos'"
      ]
    },
    {
      "cell_type": "code",
      "execution_count": 26,
      "id": "0a767023",
      "metadata": {
        "colab": {
          "base_uri": "https://localhost:8080/"
        },
        "id": "0a767023",
        "outputId": "5cd03f95-f16d-498f-b743-585a32ad7528"
      },
      "outputs": [
        {
          "output_type": "stream",
          "name": "stdout",
          "text": [
            "64\n"
          ]
        }
      ],
      "source": [
        "if 'm²' in linha0:\n",
        "  print(linha0.split(sep=' m²')[0])\n",
        "else:\n",
        "  print(np.nan)"
      ]
    },
    {
      "cell_type": "code",
      "execution_count": 27,
      "id": "9956e77a",
      "metadata": {
        "colab": {
          "base_uri": "https://localhost:8080/"
        },
        "id": "9956e77a",
        "outputId": "09cd15af-46a3-4a73-ac0e-05dd97d20ef1"
      },
      "outputs": [
        {
          "output_type": "stream",
          "name": "stdout",
          "text": [
            "nan\n"
          ]
        }
      ],
      "source": [
        "if 'm²' in linha_inventada:\n",
        "  print(linha_inventada.split(sep=' m²')[0])\n",
        "else:\n",
        "  print(np.nan)"
      ]
    },
    {
      "cell_type": "code",
      "execution_count": 29,
      "id": "4f14af60",
      "metadata": {
        "id": "4f14af60"
      },
      "outputs": [],
      "source": [
        "# type(np.nan)"
      ]
    },
    {
      "cell_type": "code",
      "execution_count": 30,
      "id": "33bd8191",
      "metadata": {
        "id": "33bd8191"
      },
      "outputs": [],
      "source": [
        "def extrair_area(entrada):\n",
        "  if 'm²' in entrada:\n",
        "    area = entrada.split(sep=' m²')[0]\n",
        "  else:\n",
        "    area = np.nan\n",
        "  return area"
      ]
    },
    {
      "cell_type": "code",
      "execution_count": 31,
      "id": "c8c53ead",
      "metadata": {
        "id": "c8c53ead"
      },
      "outputs": [],
      "source": [
        "# df_ml()"
      ]
    },
    {
      "cell_type": "code",
      "execution_count": 32,
      "id": "e42ad186",
      "metadata": {
        "id": "e42ad186"
      },
      "outputs": [],
      "source": [
        "df_ml['area'] = df_ml['area_quarto'].apply(extrair_area)"
      ]
    },
    {
      "cell_type": "code",
      "execution_count": 33,
      "id": "0ddb5428",
      "metadata": {
        "colab": {
          "base_uri": "https://localhost:8080/"
        },
        "id": "0ddb5428",
        "outputId": "c8ad61fa-69b6-4991-a029-ad0cff80fd08"
      },
      "outputs": [
        {
          "output_type": "stream",
          "name": "stdout",
          "text": [
            "<class 'pandas.core.frame.DataFrame'>\n",
            "RangeIndex: 1152 entries, 0 to 1151\n",
            "Data columns (total 4 columns):\n",
            " #   Column       Non-Null Count  Dtype  \n",
            "---  ------       --------------  -----  \n",
            " 0   aluguel      1152 non-null   float64\n",
            " 1   area_quarto  1152 non-null   object \n",
            " 2   zona         1152 non-null   object \n",
            " 3   area         1152 non-null   object \n",
            "dtypes: float64(1), object(3)\n",
            "memory usage: 36.1+ KB\n"
          ]
        }
      ],
      "source": [
        "df_ml.info()"
      ]
    },
    {
      "cell_type": "code",
      "execution_count": 34,
      "id": "5a9f18ad",
      "metadata": {
        "colab": {
          "base_uri": "https://localhost:8080/",
          "height": 35
        },
        "id": "5a9f18ad",
        "outputId": "35042390-bd89-4fdf-ba0c-fe062a4f11ee"
      },
      "outputs": [
        {
          "output_type": "execute_result",
          "data": {
            "text/plain": [
              "'64 m² construídos3 quartos'"
            ],
            "application/vnd.google.colaboratory.intrinsic+json": {
              "type": "string"
            }
          },
          "metadata": {},
          "execution_count": 34
        }
      ],
      "source": [
        "linha0"
      ]
    },
    {
      "cell_type": "code",
      "execution_count": 35,
      "id": "4c1d45db",
      "metadata": {
        "id": "4c1d45db"
      },
      "outputs": [],
      "source": [
        "padrao = '(\\d+)' # é uma expressão regular, um padrão - regex"
      ]
    },
    {
      "cell_type": "code",
      "execution_count": 36,
      "id": "3d0ef675",
      "metadata": {
        "id": "3d0ef675"
      },
      "outputs": [],
      "source": [
        "import re"
      ]
    },
    {
      "cell_type": "code",
      "execution_count": 37,
      "id": "14cf87d2",
      "metadata": {
        "colab": {
          "base_uri": "https://localhost:8080/",
          "height": 35
        },
        "id": "14cf87d2",
        "outputId": "385829cc-ebd2-4477-bf63-eeff4ad5bcd5"
      },
      "outputs": [
        {
          "output_type": "execute_result",
          "data": {
            "text/plain": [
              "'3'"
            ],
            "application/vnd.google.colaboratory.intrinsic+json": {
              "type": "string"
            }
          },
          "metadata": {},
          "execution_count": 37
        }
      ],
      "source": [
        "re.findall(padrao, linha0)[1]"
      ]
    },
    {
      "cell_type": "code",
      "execution_count": 38,
      "id": "dba4d10e",
      "metadata": {
        "id": "dba4d10e"
      },
      "outputs": [],
      "source": [
        "def extrair_quarto(entrada):\n",
        "  padrao = '(\\d+)' \n",
        "\n",
        "  if 'quarto' in entrada:\n",
        "    quarto = re.findall(padrao, entrada)[1]\n",
        "  else:\n",
        "    quarto = np.nan\n",
        "  return quarto"
      ]
    },
    {
      "cell_type": "code",
      "execution_count": 39,
      "id": "0af0afd5",
      "metadata": {
        "id": "0af0afd5"
      },
      "outputs": [],
      "source": [
        "df_ml['quarto'] = df_ml['area_quarto'].apply(extrair_quarto).astype(float)"
      ]
    },
    {
      "cell_type": "code",
      "execution_count": 40,
      "id": "1e7a54b9",
      "metadata": {
        "colab": {
          "base_uri": "https://localhost:8080/"
        },
        "id": "1e7a54b9",
        "outputId": "429e35a9-9d41-407f-8fb3-85ca12271947"
      },
      "outputs": [
        {
          "output_type": "stream",
          "name": "stdout",
          "text": [
            "<class 'pandas.core.frame.DataFrame'>\n",
            "RangeIndex: 1152 entries, 0 to 1151\n",
            "Data columns (total 5 columns):\n",
            " #   Column       Non-Null Count  Dtype  \n",
            "---  ------       --------------  -----  \n",
            " 0   aluguel      1152 non-null   float64\n",
            " 1   area_quarto  1152 non-null   object \n",
            " 2   zona         1152 non-null   object \n",
            " 3   area         1152 non-null   object \n",
            " 4   quarto       1117 non-null   float64\n",
            "dtypes: float64(2), object(3)\n",
            "memory usage: 45.1+ KB\n"
          ]
        }
      ],
      "source": [
        "df_ml.info()"
      ]
    },
    {
      "cell_type": "code",
      "execution_count": 41,
      "id": "b5207735",
      "metadata": {
        "id": "b5207735"
      },
      "outputs": [],
      "source": [
        "df_ml = df_ml.drop('area_quarto', axis=1)"
      ]
    },
    {
      "cell_type": "code",
      "execution_count": 42,
      "id": "71b61441",
      "metadata": {
        "colab": {
          "base_uri": "https://localhost:8080/",
          "height": 206
        },
        "id": "71b61441",
        "outputId": "9aa0daf0-9f27-4fda-fd4e-0ca0bcc1cd4b"
      },
      "outputs": [
        {
          "output_type": "execute_result",
          "data": {
            "text/plain": [
              "   aluguel zona area  quarto\n",
              "0   1100.0  sul   64     3.0\n",
              "1   1300.0  sul   35     1.0\n",
              "2   3500.0  sul  100     3.0\n",
              "3   1700.0  sul   75     2.0\n",
              "4   3270.0  sul  100     3.0"
            ],
            "text/html": [
              "\n",
              "  <div id=\"df-2109e912-a9a2-423e-940d-7e7e105c8afd\">\n",
              "    <div class=\"colab-df-container\">\n",
              "      <div>\n",
              "<style scoped>\n",
              "    .dataframe tbody tr th:only-of-type {\n",
              "        vertical-align: middle;\n",
              "    }\n",
              "\n",
              "    .dataframe tbody tr th {\n",
              "        vertical-align: top;\n",
              "    }\n",
              "\n",
              "    .dataframe thead th {\n",
              "        text-align: right;\n",
              "    }\n",
              "</style>\n",
              "<table border=\"1\" class=\"dataframe\">\n",
              "  <thead>\n",
              "    <tr style=\"text-align: right;\">\n",
              "      <th></th>\n",
              "      <th>aluguel</th>\n",
              "      <th>zona</th>\n",
              "      <th>area</th>\n",
              "      <th>quarto</th>\n",
              "    </tr>\n",
              "  </thead>\n",
              "  <tbody>\n",
              "    <tr>\n",
              "      <th>0</th>\n",
              "      <td>1100.0</td>\n",
              "      <td>sul</td>\n",
              "      <td>64</td>\n",
              "      <td>3.0</td>\n",
              "    </tr>\n",
              "    <tr>\n",
              "      <th>1</th>\n",
              "      <td>1300.0</td>\n",
              "      <td>sul</td>\n",
              "      <td>35</td>\n",
              "      <td>1.0</td>\n",
              "    </tr>\n",
              "    <tr>\n",
              "      <th>2</th>\n",
              "      <td>3500.0</td>\n",
              "      <td>sul</td>\n",
              "      <td>100</td>\n",
              "      <td>3.0</td>\n",
              "    </tr>\n",
              "    <tr>\n",
              "      <th>3</th>\n",
              "      <td>1700.0</td>\n",
              "      <td>sul</td>\n",
              "      <td>75</td>\n",
              "      <td>2.0</td>\n",
              "    </tr>\n",
              "    <tr>\n",
              "      <th>4</th>\n",
              "      <td>3270.0</td>\n",
              "      <td>sul</td>\n",
              "      <td>100</td>\n",
              "      <td>3.0</td>\n",
              "    </tr>\n",
              "  </tbody>\n",
              "</table>\n",
              "</div>\n",
              "      <button class=\"colab-df-convert\" onclick=\"convertToInteractive('df-2109e912-a9a2-423e-940d-7e7e105c8afd')\"\n",
              "              title=\"Convert this dataframe to an interactive table.\"\n",
              "              style=\"display:none;\">\n",
              "        \n",
              "  <svg xmlns=\"http://www.w3.org/2000/svg\" height=\"24px\"viewBox=\"0 0 24 24\"\n",
              "       width=\"24px\">\n",
              "    <path d=\"M0 0h24v24H0V0z\" fill=\"none\"/>\n",
              "    <path d=\"M18.56 5.44l.94 2.06.94-2.06 2.06-.94-2.06-.94-.94-2.06-.94 2.06-2.06.94zm-11 1L8.5 8.5l.94-2.06 2.06-.94-2.06-.94L8.5 2.5l-.94 2.06-2.06.94zm10 10l.94 2.06.94-2.06 2.06-.94-2.06-.94-.94-2.06-.94 2.06-2.06.94z\"/><path d=\"M17.41 7.96l-1.37-1.37c-.4-.4-.92-.59-1.43-.59-.52 0-1.04.2-1.43.59L10.3 9.45l-7.72 7.72c-.78.78-.78 2.05 0 2.83L4 21.41c.39.39.9.59 1.41.59.51 0 1.02-.2 1.41-.59l7.78-7.78 2.81-2.81c.8-.78.8-2.07 0-2.86zM5.41 20L4 18.59l7.72-7.72 1.47 1.35L5.41 20z\"/>\n",
              "  </svg>\n",
              "      </button>\n",
              "      \n",
              "  <style>\n",
              "    .colab-df-container {\n",
              "      display:flex;\n",
              "      flex-wrap:wrap;\n",
              "      gap: 12px;\n",
              "    }\n",
              "\n",
              "    .colab-df-convert {\n",
              "      background-color: #E8F0FE;\n",
              "      border: none;\n",
              "      border-radius: 50%;\n",
              "      cursor: pointer;\n",
              "      display: none;\n",
              "      fill: #1967D2;\n",
              "      height: 32px;\n",
              "      padding: 0 0 0 0;\n",
              "      width: 32px;\n",
              "    }\n",
              "\n",
              "    .colab-df-convert:hover {\n",
              "      background-color: #E2EBFA;\n",
              "      box-shadow: 0px 1px 2px rgba(60, 64, 67, 0.3), 0px 1px 3px 1px rgba(60, 64, 67, 0.15);\n",
              "      fill: #174EA6;\n",
              "    }\n",
              "\n",
              "    [theme=dark] .colab-df-convert {\n",
              "      background-color: #3B4455;\n",
              "      fill: #D2E3FC;\n",
              "    }\n",
              "\n",
              "    [theme=dark] .colab-df-convert:hover {\n",
              "      background-color: #434B5C;\n",
              "      box-shadow: 0px 1px 3px 1px rgba(0, 0, 0, 0.15);\n",
              "      filter: drop-shadow(0px 1px 2px rgba(0, 0, 0, 0.3));\n",
              "      fill: #FFFFFF;\n",
              "    }\n",
              "  </style>\n",
              "\n",
              "      <script>\n",
              "        const buttonEl =\n",
              "          document.querySelector('#df-2109e912-a9a2-423e-940d-7e7e105c8afd button.colab-df-convert');\n",
              "        buttonEl.style.display =\n",
              "          google.colab.kernel.accessAllowed ? 'block' : 'none';\n",
              "\n",
              "        async function convertToInteractive(key) {\n",
              "          const element = document.querySelector('#df-2109e912-a9a2-423e-940d-7e7e105c8afd');\n",
              "          const dataTable =\n",
              "            await google.colab.kernel.invokeFunction('convertToInteractive',\n",
              "                                                     [key], {});\n",
              "          if (!dataTable) return;\n",
              "\n",
              "          const docLinkHtml = 'Like what you see? Visit the ' +\n",
              "            '<a target=\"_blank\" href=https://colab.research.google.com/notebooks/data_table.ipynb>data table notebook</a>'\n",
              "            + ' to learn more about interactive tables.';\n",
              "          element.innerHTML = '';\n",
              "          dataTable['output_type'] = 'display_data';\n",
              "          await google.colab.output.renderOutput(dataTable, element);\n",
              "          const docLink = document.createElement('div');\n",
              "          docLink.innerHTML = docLinkHtml;\n",
              "          element.appendChild(docLink);\n",
              "        }\n",
              "      </script>\n",
              "    </div>\n",
              "  </div>\n",
              "  "
            ]
          },
          "metadata": {},
          "execution_count": 42
        }
      ],
      "source": [
        "df_ml.head()"
      ]
    },
    {
      "cell_type": "code",
      "execution_count": null,
      "id": "3559c0a4",
      "metadata": {
        "id": "3559c0a4"
      },
      "outputs": [],
      "source": [
        "df_ml.to_csv('dados_limpos_ml.csv', index=False)"
      ]
    }
  ],
  "metadata": {
    "kernelspec": {
      "display_name": "Python 3 (ipykernel)",
      "language": "python",
      "name": "python3"
    },
    "language_info": {
      "codemirror_mode": {
        "name": "ipython",
        "version": 3
      },
      "file_extension": ".py",
      "mimetype": "text/x-python",
      "name": "python",
      "nbconvert_exporter": "python",
      "pygments_lexer": "ipython3",
      "version": "3.9.7"
    },
    "colab": {
      "name": "data_manipulation_mercadolivre.ipynb",
      "provenance": [],
      "include_colab_link": true
    }
  },
  "nbformat": 4,
  "nbformat_minor": 5
}