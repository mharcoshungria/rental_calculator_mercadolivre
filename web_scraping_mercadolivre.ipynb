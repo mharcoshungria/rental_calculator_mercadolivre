{
 "cells": [
  {
   "cell_type": "code",
   "execution_count": 1,
   "id": "4677bf8c",
   "metadata": {},
   "outputs": [],
   "source": [
    "# Importando bibliotecas:\n",
    "\n",
    "from time import sleep\n",
    "import pandas as pd\n",
    "from bs4 import BeautifulSoup\n",
    "import requests"
   ]
  },
  {
   "cell_type": "code",
   "execution_count": 2,
   "id": "e3b7b7da",
   "metadata": {},
   "outputs": [],
   "source": [
    "zonas = ['sul', 'norte', 'leste', 'oeste']\n",
    "paginas = ['', '_Desde_49', '_Desde_97', '_Desde_145', '_Desde_193', '_Desde_241']"
   ]
  },
  {
   "cell_type": "code",
   "execution_count": 3,
   "id": "108a984e",
   "metadata": {},
   "outputs": [],
   "source": [
    "# Criando função para acessar a url, coletar as informacoes, armazenar nas listas e depois juntar as listas em uma tabela\n",
    "\n",
    "def coleta_dados(url, zona):\n",
    "  res = requests.get(url).content\n",
    "  sopa = BeautifulSoup(res)\n",
    "  \n",
    "  rs_precos = sopa.find_all('span', {'class': 'price-tag-fraction'})\n",
    "  rs_areas_quartos = sopa.find_all('ul', {'class': 'ui-search-card-attributes ui-search-item__group__element'})\n",
    "\n",
    "  lista_precos = []\n",
    "  lista_areas_quartos = []\n",
    "  lista_zonas = []\n",
    "    \n",
    "  for preco, area_quarto in zip(rs_precos, rs_areas_quartos):\n",
    "    lista_precos.append(preco.text)\n",
    "    lista_areas_quartos.append(area_quarto.text)\n",
    "    lista_zonas.append(zona)\n",
    "    \n",
    "  dados = {'aluguel': lista_precos,\n",
    "  'area_quarto': lista_areas_quartos,\n",
    "  'zona': lista_zonas}\n",
    "    \n",
    "  df = pd.DataFrame(dados)\n",
    "\n",
    "  return df"
   ]
  },
  {
   "cell_type": "code",
   "execution_count": 4,
   "id": "6812c5ef",
   "metadata": {},
   "outputs": [
    {
     "name": "stdout",
     "output_type": "stream",
     "text": [
      "Coletando dados de https://imoveis.mercadolivre.com.br/apartamentos/aluguel/sao-paulo/sao-paulo-zona-sul/\n",
      "Coletando dados de https://imoveis.mercadolivre.com.br/apartamentos/aluguel/sao-paulo/sao-paulo-zona-sul/_Desde_49\n",
      "Coletando dados de https://imoveis.mercadolivre.com.br/apartamentos/aluguel/sao-paulo/sao-paulo-zona-sul/_Desde_97\n",
      "Coletando dados de https://imoveis.mercadolivre.com.br/apartamentos/aluguel/sao-paulo/sao-paulo-zona-sul/_Desde_145\n",
      "Coletando dados de https://imoveis.mercadolivre.com.br/apartamentos/aluguel/sao-paulo/sao-paulo-zona-sul/_Desde_193\n",
      "Coletando dados de https://imoveis.mercadolivre.com.br/apartamentos/aluguel/sao-paulo/sao-paulo-zona-sul/_Desde_241\n",
      "Coletando dados de https://imoveis.mercadolivre.com.br/apartamentos/aluguel/sao-paulo/sao-paulo-zona-norte/\n",
      "Coletando dados de https://imoveis.mercadolivre.com.br/apartamentos/aluguel/sao-paulo/sao-paulo-zona-norte/_Desde_49\n",
      "Coletando dados de https://imoveis.mercadolivre.com.br/apartamentos/aluguel/sao-paulo/sao-paulo-zona-norte/_Desde_97\n",
      "Coletando dados de https://imoveis.mercadolivre.com.br/apartamentos/aluguel/sao-paulo/sao-paulo-zona-norte/_Desde_145\n",
      "Coletando dados de https://imoveis.mercadolivre.com.br/apartamentos/aluguel/sao-paulo/sao-paulo-zona-norte/_Desde_193\n",
      "Coletando dados de https://imoveis.mercadolivre.com.br/apartamentos/aluguel/sao-paulo/sao-paulo-zona-norte/_Desde_241\n",
      "Coletando dados de https://imoveis.mercadolivre.com.br/apartamentos/aluguel/sao-paulo/sao-paulo-zona-leste/\n",
      "Coletando dados de https://imoveis.mercadolivre.com.br/apartamentos/aluguel/sao-paulo/sao-paulo-zona-leste/_Desde_49\n",
      "Coletando dados de https://imoveis.mercadolivre.com.br/apartamentos/aluguel/sao-paulo/sao-paulo-zona-leste/_Desde_97\n",
      "Coletando dados de https://imoveis.mercadolivre.com.br/apartamentos/aluguel/sao-paulo/sao-paulo-zona-leste/_Desde_145\n",
      "Coletando dados de https://imoveis.mercadolivre.com.br/apartamentos/aluguel/sao-paulo/sao-paulo-zona-leste/_Desde_193\n",
      "Coletando dados de https://imoveis.mercadolivre.com.br/apartamentos/aluguel/sao-paulo/sao-paulo-zona-leste/_Desde_241\n",
      "Coletando dados de https://imoveis.mercadolivre.com.br/apartamentos/aluguel/sao-paulo/sao-paulo-zona-oeste/\n",
      "Coletando dados de https://imoveis.mercadolivre.com.br/apartamentos/aluguel/sao-paulo/sao-paulo-zona-oeste/_Desde_49\n",
      "Coletando dados de https://imoveis.mercadolivre.com.br/apartamentos/aluguel/sao-paulo/sao-paulo-zona-oeste/_Desde_97\n",
      "Coletando dados de https://imoveis.mercadolivre.com.br/apartamentos/aluguel/sao-paulo/sao-paulo-zona-oeste/_Desde_145\n",
      "Coletando dados de https://imoveis.mercadolivre.com.br/apartamentos/aluguel/sao-paulo/sao-paulo-zona-oeste/_Desde_193\n",
      "Coletando dados de https://imoveis.mercadolivre.com.br/apartamentos/aluguel/sao-paulo/sao-paulo-zona-oeste/_Desde_241\n"
     ]
    }
   ],
   "source": [
    "lista_dfs = []\n",
    "\n",
    "for zona in zonas: # print('Zona:', zona)\n",
    "  for pagina in paginas: # print('Pagina:', pagina)\n",
    "    url = f'https://imoveis.mercadolivre.com.br/apartamentos/aluguel/sao-paulo/sao-paulo-zona-{zona}/{pagina}'\n",
    "    print('Coletando dados de', url)\n",
    "    df = coleta_dados(url, zona) # retorna o df \n",
    "    lista_dfs.append(df)\n",
    "    sleep(2)"
   ]
  },
  {
   "cell_type": "code",
   "execution_count": 6,
   "id": "2d897711",
   "metadata": {},
   "outputs": [],
   "source": [
    "df_ml = pd.concat(lista_dfs, axis=0)"
   ]
  },
  {
   "cell_type": "code",
   "execution_count": 7,
   "id": "016b615e",
   "metadata": {},
   "outputs": [
    {
     "data": {
      "text/html": [
       "<div>\n",
       "<style scoped>\n",
       "    .dataframe tbody tr th:only-of-type {\n",
       "        vertical-align: middle;\n",
       "    }\n",
       "\n",
       "    .dataframe tbody tr th {\n",
       "        vertical-align: top;\n",
       "    }\n",
       "\n",
       "    .dataframe thead th {\n",
       "        text-align: right;\n",
       "    }\n",
       "</style>\n",
       "<table border=\"1\" class=\"dataframe\">\n",
       "  <thead>\n",
       "    <tr style=\"text-align: right;\">\n",
       "      <th></th>\n",
       "      <th>aluguel</th>\n",
       "      <th>area_quarto</th>\n",
       "      <th>zona</th>\n",
       "    </tr>\n",
       "  </thead>\n",
       "  <tbody>\n",
       "    <tr>\n",
       "      <th>0</th>\n",
       "      <td>1.100</td>\n",
       "      <td>64 m² construídos3 quartos</td>\n",
       "      <td>sul</td>\n",
       "    </tr>\n",
       "    <tr>\n",
       "      <th>1</th>\n",
       "      <td>1.300</td>\n",
       "      <td>35 m² construídos1 quarto</td>\n",
       "      <td>sul</td>\n",
       "    </tr>\n",
       "    <tr>\n",
       "      <th>2</th>\n",
       "      <td>3.500</td>\n",
       "      <td>100 m² construídos3 quartos</td>\n",
       "      <td>sul</td>\n",
       "    </tr>\n",
       "    <tr>\n",
       "      <th>3</th>\n",
       "      <td>1.700</td>\n",
       "      <td>75 m² construídos2 quartos</td>\n",
       "      <td>sul</td>\n",
       "    </tr>\n",
       "    <tr>\n",
       "      <th>4</th>\n",
       "      <td>3.270</td>\n",
       "      <td>100 m² construídos3 quartos</td>\n",
       "      <td>sul</td>\n",
       "    </tr>\n",
       "  </tbody>\n",
       "</table>\n",
       "</div>"
      ],
      "text/plain": [
       "  aluguel                  area_quarto zona\n",
       "0   1.100   64 m² construídos3 quartos  sul\n",
       "1   1.300    35 m² construídos1 quarto  sul\n",
       "2   3.500  100 m² construídos3 quartos  sul\n",
       "3   1.700   75 m² construídos2 quartos  sul\n",
       "4   3.270  100 m² construídos3 quartos  sul"
      ]
     },
     "execution_count": 7,
     "metadata": {},
     "output_type": "execute_result"
    }
   ],
   "source": [
    "df_ml.head()"
   ]
  },
  {
   "cell_type": "code",
   "execution_count": 8,
   "id": "f009d62e",
   "metadata": {},
   "outputs": [
    {
     "data": {
      "text/plain": [
       "(1152, 3)"
      ]
     },
     "execution_count": 8,
     "metadata": {},
     "output_type": "execute_result"
    }
   ],
   "source": [
    "df_ml.shape"
   ]
  },
  {
   "cell_type": "code",
   "execution_count": 9,
   "id": "ae7ba138",
   "metadata": {},
   "outputs": [
    {
     "data": {
      "text/plain": [
       "pandas.core.series.Series"
      ]
     },
     "execution_count": 9,
     "metadata": {},
     "output_type": "execute_result"
    }
   ],
   "source": [
    "type(df_ml['aluguel'])"
   ]
  },
  {
   "cell_type": "code",
   "execution_count": 10,
   "id": "12f723fc",
   "metadata": {},
   "outputs": [
    {
     "data": {
      "text/plain": [
       "numpy.ndarray"
      ]
     },
     "execution_count": 10,
     "metadata": {},
     "output_type": "execute_result"
    }
   ],
   "source": [
    "type(df_ml['aluguel'].values)"
   ]
  },
  {
   "cell_type": "code",
   "execution_count": 11,
   "id": "3ce69e9c",
   "metadata": {},
   "outputs": [
    {
     "data": {
      "text/plain": [
       "str"
      ]
     },
     "execution_count": 11,
     "metadata": {},
     "output_type": "execute_result"
    }
   ],
   "source": [
    "type(df_ml['aluguel'].values[0])"
   ]
  },
  {
   "cell_type": "code",
   "execution_count": 13,
   "id": "8046e25b",
   "metadata": {},
   "outputs": [],
   "source": [
    "df_ml.to_csv('dados_ml.csv', index=False)"
   ]
  },
  {
   "cell_type": "code",
   "execution_count": 16,
   "id": "563b9d99",
   "metadata": {},
   "outputs": [
    {
     "data": {
      "text/html": [
       "<div>\n",
       "<style scoped>\n",
       "    .dataframe tbody tr th:only-of-type {\n",
       "        vertical-align: middle;\n",
       "    }\n",
       "\n",
       "    .dataframe tbody tr th {\n",
       "        vertical-align: top;\n",
       "    }\n",
       "\n",
       "    .dataframe thead th {\n",
       "        text-align: right;\n",
       "    }\n",
       "</style>\n",
       "<table border=\"1\" class=\"dataframe\">\n",
       "  <thead>\n",
       "    <tr style=\"text-align: right;\">\n",
       "      <th></th>\n",
       "      <th>aluguel</th>\n",
       "      <th>area_quarto</th>\n",
       "      <th>zona</th>\n",
       "    </tr>\n",
       "  </thead>\n",
       "  <tbody>\n",
       "    <tr>\n",
       "      <th>0</th>\n",
       "      <td>1100</td>\n",
       "      <td>64 m² construídos3 quartos</td>\n",
       "      <td>sul</td>\n",
       "    </tr>\n",
       "    <tr>\n",
       "      <th>1</th>\n",
       "      <td>1300</td>\n",
       "      <td>35 m² construídos1 quarto</td>\n",
       "      <td>sul</td>\n",
       "    </tr>\n",
       "    <tr>\n",
       "      <th>2</th>\n",
       "      <td>3500</td>\n",
       "      <td>100 m² construídos3 quartos</td>\n",
       "      <td>sul</td>\n",
       "    </tr>\n",
       "    <tr>\n",
       "      <th>3</th>\n",
       "      <td>1700</td>\n",
       "      <td>75 m² construídos2 quartos</td>\n",
       "      <td>sul</td>\n",
       "    </tr>\n",
       "    <tr>\n",
       "      <th>4</th>\n",
       "      <td>3270</td>\n",
       "      <td>100 m² construídos3 quartos</td>\n",
       "      <td>sul</td>\n",
       "    </tr>\n",
       "    <tr>\n",
       "      <th>...</th>\n",
       "      <td>...</td>\n",
       "      <td>...</td>\n",
       "      <td>...</td>\n",
       "    </tr>\n",
       "    <tr>\n",
       "      <th>1147</th>\n",
       "      <td>10000</td>\n",
       "      <td>337 m² construídos4 quartos</td>\n",
       "      <td>oeste</td>\n",
       "    </tr>\n",
       "    <tr>\n",
       "      <th>1148</th>\n",
       "      <td>2800</td>\n",
       "      <td>147 m² construídos3 quartos</td>\n",
       "      <td>oeste</td>\n",
       "    </tr>\n",
       "    <tr>\n",
       "      <th>1149</th>\n",
       "      <td>8000</td>\n",
       "      <td>370 m² construídos5 quartos</td>\n",
       "      <td>oeste</td>\n",
       "    </tr>\n",
       "    <tr>\n",
       "      <th>1150</th>\n",
       "      <td>3200</td>\n",
       "      <td>78 m² construídos3 quartos</td>\n",
       "      <td>oeste</td>\n",
       "    </tr>\n",
       "    <tr>\n",
       "      <th>1151</th>\n",
       "      <td>3700</td>\n",
       "      <td>144 m² construídos4 quartos</td>\n",
       "      <td>oeste</td>\n",
       "    </tr>\n",
       "  </tbody>\n",
       "</table>\n",
       "<p>1152 rows × 3 columns</p>\n",
       "</div>"
      ],
      "text/plain": [
       "      aluguel                  area_quarto   zona\n",
       "0        1100   64 m² construídos3 quartos    sul\n",
       "1        1300    35 m² construídos1 quarto    sul\n",
       "2        3500  100 m² construídos3 quartos    sul\n",
       "3        1700   75 m² construídos2 quartos    sul\n",
       "4        3270  100 m² construídos3 quartos    sul\n",
       "...       ...                          ...    ...\n",
       "1147    10000  337 m² construídos4 quartos  oeste\n",
       "1148     2800  147 m² construídos3 quartos  oeste\n",
       "1149     8000  370 m² construídos5 quartos  oeste\n",
       "1150     3200   78 m² construídos3 quartos  oeste\n",
       "1151     3700  144 m² construídos4 quartos  oeste\n",
       "\n",
       "[1152 rows x 3 columns]"
      ]
     },
     "execution_count": 16,
     "metadata": {},
     "output_type": "execute_result"
    }
   ],
   "source": [
    "pd.read_csv('https://raw.githubusercontent.com/mharcoshungria/rental_calculator_mercadolivre/main/dados_ml.csv', thousands='.')"
   ]
  }
 ],
 "metadata": {
  "kernelspec": {
   "display_name": "Python 3 (ipykernel)",
   "language": "python",
   "name": "python3"
  },
  "language_info": {
   "codemirror_mode": {
    "name": "ipython",
    "version": 3
   },
   "file_extension": ".py",
   "mimetype": "text/x-python",
   "name": "python",
   "nbconvert_exporter": "python",
   "pygments_lexer": "ipython3",
   "version": "3.9.7"
  }
 },
 "nbformat": 4,
 "nbformat_minor": 5
}
