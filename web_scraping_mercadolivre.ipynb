{
  "cells": [
    {
      "cell_type": "markdown",
      "metadata": {
        "id": "view-in-github",
        "colab_type": "text"
      },
      "source": [
        "<a href=\"https://colab.research.google.com/github/mharcoshungria/web_scraping_mercadolivre/blob/main/web_scraping_mercadolivre.ipynb\" target=\"_parent\"><img src=\"https://colab.research.google.com/assets/colab-badge.svg\" alt=\"Open In Colab\"/></a>"
      ]
    },
    {
      "cell_type": "code",
      "execution_count": 1,
      "id": "4677bf8c",
      "metadata": {
        "id": "4677bf8c"
      },
      "outputs": [],
      "source": [
        "# Importando bibliotecas:\n",
        "\n",
        "from time import sleep\n",
        "import pandas as pd\n",
        "from bs4 import BeautifulSoup\n",
        "import requests"
      ]
    },
    {
      "cell_type": "code",
      "execution_count": 2,
      "id": "e3b7b7da",
      "metadata": {
        "id": "e3b7b7da"
      },
      "outputs": [],
      "source": [
        "zonas = ['sul', 'norte', 'leste', 'oeste']\n",
        "paginas = ['', '_Desde_49', '_Desde_97', '_Desde_145', '_Desde_193', '_Desde_241']"
      ]
    },
    {
      "cell_type": "code",
      "execution_count": null,
      "id": "108a984e",
      "metadata": {
        "id": "108a984e"
      },
      "outputs": [],
      "source": [
        "# Criando função para acessar a url, coletar as informacoes, armazenar nas listas e depois juntar as listas em uma tabela\n",
        "\n",
        "def coleta_dados(url, zona):\n",
        "  res = requests.get(url).content\n",
        "  sopa = BeautifulSoup(res)\n",
        "  \n",
        "  rs_precos = sopa.find_all('span', {'class': 'price-tag-fraction'})\n",
        "  rs_areas_quartos = sopa.find_all('ul', {'class': 'ui-search-card-attributes ui-search-item__group__element'})\n",
        "\n",
        "  lista_precos = []\n",
        "  lista_areas_quartos = []\n",
        "  lista_zonas = []\n",
        "    \n",
        "  for preco, area_quarto in zip(rs_precos, rs_areas_quartos):\n",
        "    lista_precos.append(preco.text)\n",
        "    lista_areas_quartos.append(area_quarto.text)\n",
        "    lista_zonas.append(zona)\n",
        "    \n",
        "  dados = {'aluguel': lista_precos,\n",
        "  'area_quarto': lista_areas_quartos,\n",
        "  'zona': lista_zonas}\n",
        "    \n",
        "  df = pd.DataFrame(dados)\n",
        "\n",
        "  return df"
      ]
    },
    {
      "cell_type": "code",
      "execution_count": null,
      "id": "6812c5ef",
      "metadata": {
        "id": "6812c5ef",
        "outputId": "ba8ff002-830f-4028-c760-41d66aab7343"
      },
      "outputs": [
        {
          "name": "stdout",
          "output_type": "stream",
          "text": [
            "Coletando dados de https://imoveis.mercadolivre.com.br/apartamentos/aluguel/sao-paulo/sao-paulo-zona-sul/\n",
            "Coletando dados de https://imoveis.mercadolivre.com.br/apartamentos/aluguel/sao-paulo/sao-paulo-zona-sul/_Desde_49\n",
            "Coletando dados de https://imoveis.mercadolivre.com.br/apartamentos/aluguel/sao-paulo/sao-paulo-zona-sul/_Desde_97\n",
            "Coletando dados de https://imoveis.mercadolivre.com.br/apartamentos/aluguel/sao-paulo/sao-paulo-zona-sul/_Desde_145\n",
            "Coletando dados de https://imoveis.mercadolivre.com.br/apartamentos/aluguel/sao-paulo/sao-paulo-zona-sul/_Desde_193\n",
            "Coletando dados de https://imoveis.mercadolivre.com.br/apartamentos/aluguel/sao-paulo/sao-paulo-zona-sul/_Desde_241\n",
            "Coletando dados de https://imoveis.mercadolivre.com.br/apartamentos/aluguel/sao-paulo/sao-paulo-zona-norte/\n",
            "Coletando dados de https://imoveis.mercadolivre.com.br/apartamentos/aluguel/sao-paulo/sao-paulo-zona-norte/_Desde_49\n",
            "Coletando dados de https://imoveis.mercadolivre.com.br/apartamentos/aluguel/sao-paulo/sao-paulo-zona-norte/_Desde_97\n",
            "Coletando dados de https://imoveis.mercadolivre.com.br/apartamentos/aluguel/sao-paulo/sao-paulo-zona-norte/_Desde_145\n",
            "Coletando dados de https://imoveis.mercadolivre.com.br/apartamentos/aluguel/sao-paulo/sao-paulo-zona-norte/_Desde_193\n",
            "Coletando dados de https://imoveis.mercadolivre.com.br/apartamentos/aluguel/sao-paulo/sao-paulo-zona-norte/_Desde_241\n",
            "Coletando dados de https://imoveis.mercadolivre.com.br/apartamentos/aluguel/sao-paulo/sao-paulo-zona-leste/\n",
            "Coletando dados de https://imoveis.mercadolivre.com.br/apartamentos/aluguel/sao-paulo/sao-paulo-zona-leste/_Desde_49\n",
            "Coletando dados de https://imoveis.mercadolivre.com.br/apartamentos/aluguel/sao-paulo/sao-paulo-zona-leste/_Desde_97\n",
            "Coletando dados de https://imoveis.mercadolivre.com.br/apartamentos/aluguel/sao-paulo/sao-paulo-zona-leste/_Desde_145\n",
            "Coletando dados de https://imoveis.mercadolivre.com.br/apartamentos/aluguel/sao-paulo/sao-paulo-zona-leste/_Desde_193\n",
            "Coletando dados de https://imoveis.mercadolivre.com.br/apartamentos/aluguel/sao-paulo/sao-paulo-zona-leste/_Desde_241\n",
            "Coletando dados de https://imoveis.mercadolivre.com.br/apartamentos/aluguel/sao-paulo/sao-paulo-zona-oeste/\n",
            "Coletando dados de https://imoveis.mercadolivre.com.br/apartamentos/aluguel/sao-paulo/sao-paulo-zona-oeste/_Desde_49\n",
            "Coletando dados de https://imoveis.mercadolivre.com.br/apartamentos/aluguel/sao-paulo/sao-paulo-zona-oeste/_Desde_97\n",
            "Coletando dados de https://imoveis.mercadolivre.com.br/apartamentos/aluguel/sao-paulo/sao-paulo-zona-oeste/_Desde_145\n",
            "Coletando dados de https://imoveis.mercadolivre.com.br/apartamentos/aluguel/sao-paulo/sao-paulo-zona-oeste/_Desde_193\n",
            "Coletando dados de https://imoveis.mercadolivre.com.br/apartamentos/aluguel/sao-paulo/sao-paulo-zona-oeste/_Desde_241\n"
          ]
        }
      ],
      "source": [
        "lista_dfs = []\n",
        "\n",
        "for zona in zonas: # print('Zona:', zona)\n",
        "  for pagina in paginas: # print('Pagina:', pagina)\n",
        "    url = f'https://imoveis.mercadolivre.com.br/apartamentos/aluguel/sao-paulo/sao-paulo-zona-{zona}/{pagina}'\n",
        "    print('Coletando dados de', url)\n",
        "    df = coleta_dados(url, zona) # retorna o df \n",
        "    lista_dfs.append(df)\n",
        "    sleep(2)"
      ]
    },
    {
      "cell_type": "code",
      "execution_count": null,
      "id": "2d897711",
      "metadata": {
        "id": "2d897711"
      },
      "outputs": [],
      "source": [
        "df_ml = pd.concat(lista_dfs, axis=0)"
      ]
    },
    {
      "cell_type": "code",
      "execution_count": null,
      "id": "016b615e",
      "metadata": {
        "id": "016b615e",
        "outputId": "5dcbdad5-5bdc-446e-972b-9059b295e3ed"
      },
      "outputs": [
        {
          "data": {
            "text/html": [
              "<div>\n",
              "<style scoped>\n",
              "    .dataframe tbody tr th:only-of-type {\n",
              "        vertical-align: middle;\n",
              "    }\n",
              "\n",
              "    .dataframe tbody tr th {\n",
              "        vertical-align: top;\n",
              "    }\n",
              "\n",
              "    .dataframe thead th {\n",
              "        text-align: right;\n",
              "    }\n",
              "</style>\n",
              "<table border=\"1\" class=\"dataframe\">\n",
              "  <thead>\n",
              "    <tr style=\"text-align: right;\">\n",
              "      <th></th>\n",
              "      <th>aluguel</th>\n",
              "      <th>area_quarto</th>\n",
              "      <th>zona</th>\n",
              "    </tr>\n",
              "  </thead>\n",
              "  <tbody>\n",
              "    <tr>\n",
              "      <th>0</th>\n",
              "      <td>1.100</td>\n",
              "      <td>64 m² construídos3 quartos</td>\n",
              "      <td>sul</td>\n",
              "    </tr>\n",
              "    <tr>\n",
              "      <th>1</th>\n",
              "      <td>1.300</td>\n",
              "      <td>35 m² construídos1 quarto</td>\n",
              "      <td>sul</td>\n",
              "    </tr>\n",
              "    <tr>\n",
              "      <th>2</th>\n",
              "      <td>3.500</td>\n",
              "      <td>100 m² construídos3 quartos</td>\n",
              "      <td>sul</td>\n",
              "    </tr>\n",
              "    <tr>\n",
              "      <th>3</th>\n",
              "      <td>1.700</td>\n",
              "      <td>75 m² construídos2 quartos</td>\n",
              "      <td>sul</td>\n",
              "    </tr>\n",
              "    <tr>\n",
              "      <th>4</th>\n",
              "      <td>3.270</td>\n",
              "      <td>100 m² construídos3 quartos</td>\n",
              "      <td>sul</td>\n",
              "    </tr>\n",
              "  </tbody>\n",
              "</table>\n",
              "</div>"
            ],
            "text/plain": [
              "  aluguel                  area_quarto zona\n",
              "0   1.100   64 m² construídos3 quartos  sul\n",
              "1   1.300    35 m² construídos1 quarto  sul\n",
              "2   3.500  100 m² construídos3 quartos  sul\n",
              "3   1.700   75 m² construídos2 quartos  sul\n",
              "4   3.270  100 m² construídos3 quartos  sul"
            ]
          },
          "execution_count": 7,
          "metadata": {},
          "output_type": "execute_result"
        }
      ],
      "source": [
        "df_ml.head()"
      ]
    },
    {
      "cell_type": "code",
      "execution_count": null,
      "id": "f009d62e",
      "metadata": {
        "id": "f009d62e",
        "outputId": "3351bfbd-b32e-4322-ff91-8cc645f1bb2a"
      },
      "outputs": [
        {
          "data": {
            "text/plain": [
              "(1152, 3)"
            ]
          },
          "execution_count": 8,
          "metadata": {},
          "output_type": "execute_result"
        }
      ],
      "source": [
        "df_ml.shape"
      ]
    },
    {
      "cell_type": "code",
      "execution_count": null,
      "id": "ae7ba138",
      "metadata": {
        "id": "ae7ba138",
        "outputId": "b760e0d3-c437-4e1e-a925-da71d80fa136"
      },
      "outputs": [
        {
          "data": {
            "text/plain": [
              "pandas.core.series.Series"
            ]
          },
          "execution_count": 9,
          "metadata": {},
          "output_type": "execute_result"
        }
      ],
      "source": [
        "type(df_ml['aluguel'])"
      ]
    },
    {
      "cell_type": "code",
      "execution_count": null,
      "id": "12f723fc",
      "metadata": {
        "id": "12f723fc",
        "outputId": "59b1feec-0cc3-45dc-f9ff-7eafa5f6246f"
      },
      "outputs": [
        {
          "data": {
            "text/plain": [
              "numpy.ndarray"
            ]
          },
          "execution_count": 10,
          "metadata": {},
          "output_type": "execute_result"
        }
      ],
      "source": [
        "type(df_ml['aluguel'].values)"
      ]
    },
    {
      "cell_type": "code",
      "execution_count": null,
      "id": "3ce69e9c",
      "metadata": {
        "id": "3ce69e9c",
        "outputId": "542d8917-4016-43da-d55d-5fb7e0ad44b6"
      },
      "outputs": [
        {
          "data": {
            "text/plain": [
              "str"
            ]
          },
          "execution_count": 11,
          "metadata": {},
          "output_type": "execute_result"
        }
      ],
      "source": [
        "type(df_ml['aluguel'].values[0])"
      ]
    },
    {
      "cell_type": "code",
      "execution_count": null,
      "id": "8046e25b",
      "metadata": {
        "id": "8046e25b"
      },
      "outputs": [],
      "source": [
        "df_ml.to_csv('dados_ml.csv', index=False)"
      ]
    },
    {
      "cell_type": "code",
      "execution_count": 3,
      "id": "563b9d99",
      "metadata": {
        "colab": {
          "base_uri": "https://localhost:8080/",
          "height": 423
        },
        "id": "563b9d99",
        "outputId": "afc3fa82-a749-48e9-f425-81784d2aa2ae"
      },
      "outputs": [
        {
          "output_type": "execute_result",
          "data": {
            "text/plain": [
              "      aluguel                  area_quarto   zona\n",
              "0        1100   64 m² construídos3 quartos    sul\n",
              "1        1300    35 m² construídos1 quarto    sul\n",
              "2        3500  100 m² construídos3 quartos    sul\n",
              "3        1700   75 m² construídos2 quartos    sul\n",
              "4        3270  100 m² construídos3 quartos    sul\n",
              "...       ...                          ...    ...\n",
              "1147    10000  337 m² construídos4 quartos  oeste\n",
              "1148     2800  147 m² construídos3 quartos  oeste\n",
              "1149     8000  370 m² construídos5 quartos  oeste\n",
              "1150     3200   78 m² construídos3 quartos  oeste\n",
              "1151     3700  144 m² construídos4 quartos  oeste\n",
              "\n",
              "[1152 rows x 3 columns]"
            ],
            "text/html": [
              "\n",
              "  <div id=\"df-20043ff0-8b66-4880-a267-edaf04e9143d\">\n",
              "    <div class=\"colab-df-container\">\n",
              "      <div>\n",
              "<style scoped>\n",
              "    .dataframe tbody tr th:only-of-type {\n",
              "        vertical-align: middle;\n",
              "    }\n",
              "\n",
              "    .dataframe tbody tr th {\n",
              "        vertical-align: top;\n",
              "    }\n",
              "\n",
              "    .dataframe thead th {\n",
              "        text-align: right;\n",
              "    }\n",
              "</style>\n",
              "<table border=\"1\" class=\"dataframe\">\n",
              "  <thead>\n",
              "    <tr style=\"text-align: right;\">\n",
              "      <th></th>\n",
              "      <th>aluguel</th>\n",
              "      <th>area_quarto</th>\n",
              "      <th>zona</th>\n",
              "    </tr>\n",
              "  </thead>\n",
              "  <tbody>\n",
              "    <tr>\n",
              "      <th>0</th>\n",
              "      <td>1100</td>\n",
              "      <td>64 m² construídos3 quartos</td>\n",
              "      <td>sul</td>\n",
              "    </tr>\n",
              "    <tr>\n",
              "      <th>1</th>\n",
              "      <td>1300</td>\n",
              "      <td>35 m² construídos1 quarto</td>\n",
              "      <td>sul</td>\n",
              "    </tr>\n",
              "    <tr>\n",
              "      <th>2</th>\n",
              "      <td>3500</td>\n",
              "      <td>100 m² construídos3 quartos</td>\n",
              "      <td>sul</td>\n",
              "    </tr>\n",
              "    <tr>\n",
              "      <th>3</th>\n",
              "      <td>1700</td>\n",
              "      <td>75 m² construídos2 quartos</td>\n",
              "      <td>sul</td>\n",
              "    </tr>\n",
              "    <tr>\n",
              "      <th>4</th>\n",
              "      <td>3270</td>\n",
              "      <td>100 m² construídos3 quartos</td>\n",
              "      <td>sul</td>\n",
              "    </tr>\n",
              "    <tr>\n",
              "      <th>...</th>\n",
              "      <td>...</td>\n",
              "      <td>...</td>\n",
              "      <td>...</td>\n",
              "    </tr>\n",
              "    <tr>\n",
              "      <th>1147</th>\n",
              "      <td>10000</td>\n",
              "      <td>337 m² construídos4 quartos</td>\n",
              "      <td>oeste</td>\n",
              "    </tr>\n",
              "    <tr>\n",
              "      <th>1148</th>\n",
              "      <td>2800</td>\n",
              "      <td>147 m² construídos3 quartos</td>\n",
              "      <td>oeste</td>\n",
              "    </tr>\n",
              "    <tr>\n",
              "      <th>1149</th>\n",
              "      <td>8000</td>\n",
              "      <td>370 m² construídos5 quartos</td>\n",
              "      <td>oeste</td>\n",
              "    </tr>\n",
              "    <tr>\n",
              "      <th>1150</th>\n",
              "      <td>3200</td>\n",
              "      <td>78 m² construídos3 quartos</td>\n",
              "      <td>oeste</td>\n",
              "    </tr>\n",
              "    <tr>\n",
              "      <th>1151</th>\n",
              "      <td>3700</td>\n",
              "      <td>144 m² construídos4 quartos</td>\n",
              "      <td>oeste</td>\n",
              "    </tr>\n",
              "  </tbody>\n",
              "</table>\n",
              "<p>1152 rows × 3 columns</p>\n",
              "</div>\n",
              "      <button class=\"colab-df-convert\" onclick=\"convertToInteractive('df-20043ff0-8b66-4880-a267-edaf04e9143d')\"\n",
              "              title=\"Convert this dataframe to an interactive table.\"\n",
              "              style=\"display:none;\">\n",
              "        \n",
              "  <svg xmlns=\"http://www.w3.org/2000/svg\" height=\"24px\"viewBox=\"0 0 24 24\"\n",
              "       width=\"24px\">\n",
              "    <path d=\"M0 0h24v24H0V0z\" fill=\"none\"/>\n",
              "    <path d=\"M18.56 5.44l.94 2.06.94-2.06 2.06-.94-2.06-.94-.94-2.06-.94 2.06-2.06.94zm-11 1L8.5 8.5l.94-2.06 2.06-.94-2.06-.94L8.5 2.5l-.94 2.06-2.06.94zm10 10l.94 2.06.94-2.06 2.06-.94-2.06-.94-.94-2.06-.94 2.06-2.06.94z\"/><path d=\"M17.41 7.96l-1.37-1.37c-.4-.4-.92-.59-1.43-.59-.52 0-1.04.2-1.43.59L10.3 9.45l-7.72 7.72c-.78.78-.78 2.05 0 2.83L4 21.41c.39.39.9.59 1.41.59.51 0 1.02-.2 1.41-.59l7.78-7.78 2.81-2.81c.8-.78.8-2.07 0-2.86zM5.41 20L4 18.59l7.72-7.72 1.47 1.35L5.41 20z\"/>\n",
              "  </svg>\n",
              "      </button>\n",
              "      \n",
              "  <style>\n",
              "    .colab-df-container {\n",
              "      display:flex;\n",
              "      flex-wrap:wrap;\n",
              "      gap: 12px;\n",
              "    }\n",
              "\n",
              "    .colab-df-convert {\n",
              "      background-color: #E8F0FE;\n",
              "      border: none;\n",
              "      border-radius: 50%;\n",
              "      cursor: pointer;\n",
              "      display: none;\n",
              "      fill: #1967D2;\n",
              "      height: 32px;\n",
              "      padding: 0 0 0 0;\n",
              "      width: 32px;\n",
              "    }\n",
              "\n",
              "    .colab-df-convert:hover {\n",
              "      background-color: #E2EBFA;\n",
              "      box-shadow: 0px 1px 2px rgba(60, 64, 67, 0.3), 0px 1px 3px 1px rgba(60, 64, 67, 0.15);\n",
              "      fill: #174EA6;\n",
              "    }\n",
              "\n",
              "    [theme=dark] .colab-df-convert {\n",
              "      background-color: #3B4455;\n",
              "      fill: #D2E3FC;\n",
              "    }\n",
              "\n",
              "    [theme=dark] .colab-df-convert:hover {\n",
              "      background-color: #434B5C;\n",
              "      box-shadow: 0px 1px 3px 1px rgba(0, 0, 0, 0.15);\n",
              "      filter: drop-shadow(0px 1px 2px rgba(0, 0, 0, 0.3));\n",
              "      fill: #FFFFFF;\n",
              "    }\n",
              "  </style>\n",
              "\n",
              "      <script>\n",
              "        const buttonEl =\n",
              "          document.querySelector('#df-20043ff0-8b66-4880-a267-edaf04e9143d button.colab-df-convert');\n",
              "        buttonEl.style.display =\n",
              "          google.colab.kernel.accessAllowed ? 'block' : 'none';\n",
              "\n",
              "        async function convertToInteractive(key) {\n",
              "          const element = document.querySelector('#df-20043ff0-8b66-4880-a267-edaf04e9143d');\n",
              "          const dataTable =\n",
              "            await google.colab.kernel.invokeFunction('convertToInteractive',\n",
              "                                                     [key], {});\n",
              "          if (!dataTable) return;\n",
              "\n",
              "          const docLinkHtml = 'Like what you see? Visit the ' +\n",
              "            '<a target=\"_blank\" href=https://colab.research.google.com/notebooks/data_table.ipynb>data table notebook</a>'\n",
              "            + ' to learn more about interactive tables.';\n",
              "          element.innerHTML = '';\n",
              "          dataTable['output_type'] = 'display_data';\n",
              "          await google.colab.output.renderOutput(dataTable, element);\n",
              "          const docLink = document.createElement('div');\n",
              "          docLink.innerHTML = docLinkHtml;\n",
              "          element.appendChild(docLink);\n",
              "        }\n",
              "      </script>\n",
              "    </div>\n",
              "  </div>\n",
              "  "
            ]
          },
          "metadata": {},
          "execution_count": 3
        }
      ],
      "source": [
        "pd.read_csv('https://raw.githubusercontent.com/mharcoshungria/web_scraping_mercadolivre/main/dados_ml.csv', thousands='.')"
      ]
    }
  ],
  "metadata": {
    "kernelspec": {
      "display_name": "Python 3 (ipykernel)",
      "language": "python",
      "name": "python3"
    },
    "language_info": {
      "codemirror_mode": {
        "name": "ipython",
        "version": 3
      },
      "file_extension": ".py",
      "mimetype": "text/x-python",
      "name": "python",
      "nbconvert_exporter": "python",
      "pygments_lexer": "ipython3",
      "version": "3.9.7"
    },
    "colab": {
      "name": "web_scraping_mercadolivre.ipynb",
      "provenance": [],
      "include_colab_link": true
    }
  },
  "nbformat": 4,
  "nbformat_minor": 5
}